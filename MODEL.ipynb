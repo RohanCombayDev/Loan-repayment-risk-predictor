{
 "cells": [
  {
   "cell_type": "markdown",
   "id": "4414393d",
   "metadata": {},
   "source": [
    "WE HAVE 2 DIFFERENT DATASETS external_loan_history and loans.csv , we need to merge them on basis of foreign key which in our case is creditor_id\n",
    "\n",
    "We will use vlookup function to merge\n",
    "\n",
    "Type in the following formula:\n",
    "\n",
    "=VLOOKUP(creditor_id,'[external_loan_history.csv] loans.csv'!$A:$B, 2, FALSE)\n",
    "\n",
    "Replace \"$A:$B\" with the actual range of columns that contains the data you want to merge."
   ]
  },
  {
   "cell_type": "markdown",
   "id": "d4ff119c",
   "metadata": {},
   "source": [
    "# Importing all python Libraries"
   ]
  },
  {
   "cell_type": "code",
   "execution_count": 58,
   "id": "9bf8d065",
   "metadata": {},
   "outputs": [],
   "source": [
    "#importing modules\n",
    "import pandas as pd\n",
    "import numpy as np\n",
    "import seaborn as sns\n",
    "import matplotlib.pyplot as plt\n",
    "from sklearn.model_selection import train_test_split\n",
    "from sklearn.ensemble import RandomForestClassifier\n",
    "import xgboost as xgb\n",
    "from sklearn import metrics\n",
    "from sklearn.metrics import confusion_matrix,classification_report\n",
    "from sklearn.metrics import mean_squared_error\n",
    "from sklearn.metrics import accuracy_score"
   ]
  },
  {
   "cell_type": "markdown",
   "id": "ea939e18",
   "metadata": {},
   "source": [
    "# Explolatory data analysis"
   ]
  },
  {
   "cell_type": "code",
   "execution_count": 2,
   "id": "3c72af89",
   "metadata": {},
   "outputs": [],
   "source": [
    "#reading csv file\n",
    "data = pd.read_csv('FinalDataset.csv')"
   ]
  },
  {
   "cell_type": "code",
   "execution_count": 3,
   "id": "d1765683",
   "metadata": {},
   "outputs": [
    {
     "data": {
      "text/html": [
       "<div>\n",
       "<style scoped>\n",
       "    .dataframe tbody tr th:only-of-type {\n",
       "        vertical-align: middle;\n",
       "    }\n",
       "\n",
       "    .dataframe tbody tr th {\n",
       "        vertical-align: top;\n",
       "    }\n",
       "\n",
       "    .dataframe thead th {\n",
       "        text-align: right;\n",
       "    }\n",
       "</style>\n",
       "<table border=\"1\" class=\"dataframe\">\n",
       "  <thead>\n",
       "    <tr style=\"text-align: right;\">\n",
       "      <th></th>\n",
       "      <th>loan_id</th>\n",
       "      <th>creditor_id</th>\n",
       "      <th>requested_date</th>\n",
       "      <th>payment_date</th>\n",
       "      <th>due_date</th>\n",
       "      <th>repayment_date</th>\n",
       "      <th>region_id</th>\n",
       "      <th>subdistrict_id</th>\n",
       "      <th>amount</th>\n",
       "      <th>volume</th>\n",
       "      <th>quality</th>\n",
       "      <th>loan_type</th>\n",
       "      <th>date</th>\n",
       "      <th>due_date2</th>\n",
       "      <th>interest</th>\n",
       "      <th>interest_type</th>\n",
       "      <th>tenure</th>\n",
       "      <th>days_past_due</th>\n",
       "    </tr>\n",
       "  </thead>\n",
       "  <tbody>\n",
       "    <tr>\n",
       "      <th>0</th>\n",
       "      <td>6273</td>\n",
       "      <td>471c132b-6534-4b19-93e7-3716c1e0345f</td>\n",
       "      <td>1/4/2018 0:10</td>\n",
       "      <td>1/4/2018 2:39</td>\n",
       "      <td>4/20/2018 7:06</td>\n",
       "      <td>NaN</td>\n",
       "      <td>6</td>\n",
       "      <td>0</td>\n",
       "      <td>200</td>\n",
       "      <td>14.0</td>\n",
       "      <td>73.3</td>\n",
       "      <td>Financing Company</td>\n",
       "      <td>6/30/2017</td>\n",
       "      <td>12/30/2018</td>\n",
       "      <td>46.69</td>\n",
       "      <td>Fixed Interest Rates</td>\n",
       "      <td>548.0</td>\n",
       "      <td>0.0</td>\n",
       "    </tr>\n",
       "    <tr>\n",
       "      <th>1</th>\n",
       "      <td>6828</td>\n",
       "      <td>471c132b-6534-4b19-93e7-3716c1e0345f</td>\n",
       "      <td>7/4/2018 0:14</td>\n",
       "      <td>8/4/2018 5:23</td>\n",
       "      <td>4/27/2018 12:37</td>\n",
       "      <td>NaN</td>\n",
       "      <td>6</td>\n",
       "      <td>9</td>\n",
       "      <td>200</td>\n",
       "      <td>13.0</td>\n",
       "      <td>67.6</td>\n",
       "      <td>Financing Company</td>\n",
       "      <td>6/30/2017</td>\n",
       "      <td>12/30/2018</td>\n",
       "      <td>46.69</td>\n",
       "      <td>Fixed Interest Rates</td>\n",
       "      <td>548.0</td>\n",
       "      <td>0.0</td>\n",
       "    </tr>\n",
       "    <tr>\n",
       "      <th>2</th>\n",
       "      <td>7005</td>\n",
       "      <td>471c132b-6534-4b19-93e7-3716c1e0345f</td>\n",
       "      <td>8/4/2018 10:37</td>\n",
       "      <td>9/4/2018 8:09</td>\n",
       "      <td>4/28/2018 11:24</td>\n",
       "      <td>NaN</td>\n",
       "      <td>6</td>\n",
       "      <td>36</td>\n",
       "      <td>200</td>\n",
       "      <td>14.0</td>\n",
       "      <td>73.8</td>\n",
       "      <td>Financing Company</td>\n",
       "      <td>6/30/2017</td>\n",
       "      <td>12/30/2018</td>\n",
       "      <td>46.69</td>\n",
       "      <td>Fixed Interest Rates</td>\n",
       "      <td>548.0</td>\n",
       "      <td>0.0</td>\n",
       "    </tr>\n",
       "    <tr>\n",
       "      <th>3</th>\n",
       "      <td>7212</td>\n",
       "      <td>471c132b-6534-4b19-93e7-3716c1e0345f</td>\n",
       "      <td>11/4/2018 5:29</td>\n",
       "      <td>12/4/2018 5:34</td>\n",
       "      <td>3/5/2018 9:43</td>\n",
       "      <td>NaN</td>\n",
       "      <td>6</td>\n",
       "      <td>33</td>\n",
       "      <td>200</td>\n",
       "      <td>13.0</td>\n",
       "      <td>73.8</td>\n",
       "      <td>Financing Company</td>\n",
       "      <td>6/30/2017</td>\n",
       "      <td>12/30/2018</td>\n",
       "      <td>46.69</td>\n",
       "      <td>Fixed Interest Rates</td>\n",
       "      <td>548.0</td>\n",
       "      <td>0.0</td>\n",
       "    </tr>\n",
       "    <tr>\n",
       "      <th>4</th>\n",
       "      <td>7334</td>\n",
       "      <td>471c132b-6534-4b19-93e7-3716c1e0345f</td>\n",
       "      <td>3/14/2018 14:17</td>\n",
       "      <td>3/15/2018 7:17</td>\n",
       "      <td>5/3/2018 10:30</td>\n",
       "      <td>4/19/2018 5:23</td>\n",
       "      <td>6</td>\n",
       "      <td>13</td>\n",
       "      <td>200</td>\n",
       "      <td>12.0</td>\n",
       "      <td>64.0</td>\n",
       "      <td>Financing Company</td>\n",
       "      <td>6/30/2017</td>\n",
       "      <td>12/30/2018</td>\n",
       "      <td>46.69</td>\n",
       "      <td>Fixed Interest Rates</td>\n",
       "      <td>548.0</td>\n",
       "      <td>0.0</td>\n",
       "    </tr>\n",
       "  </tbody>\n",
       "</table>\n",
       "</div>"
      ],
      "text/plain": [
       "   loan_id                           creditor_id   requested_date  \\\n",
       "0     6273  471c132b-6534-4b19-93e7-3716c1e0345f    1/4/2018 0:10   \n",
       "1     6828  471c132b-6534-4b19-93e7-3716c1e0345f    7/4/2018 0:14   \n",
       "2     7005  471c132b-6534-4b19-93e7-3716c1e0345f   8/4/2018 10:37   \n",
       "3     7212  471c132b-6534-4b19-93e7-3716c1e0345f   11/4/2018 5:29   \n",
       "4     7334  471c132b-6534-4b19-93e7-3716c1e0345f  3/14/2018 14:17   \n",
       "\n",
       "     payment_date         due_date  repayment_date  region_id  subdistrict_id  \\\n",
       "0   1/4/2018 2:39   4/20/2018 7:06             NaN          6               0   \n",
       "1   8/4/2018 5:23  4/27/2018 12:37             NaN          6               9   \n",
       "2   9/4/2018 8:09  4/28/2018 11:24             NaN          6              36   \n",
       "3  12/4/2018 5:34    3/5/2018 9:43             NaN          6              33   \n",
       "4  3/15/2018 7:17   5/3/2018 10:30  4/19/2018 5:23          6              13   \n",
       "\n",
       "   amount  volume  quality          loan_type       date   due_date2  \\\n",
       "0     200    14.0     73.3  Financing Company  6/30/2017  12/30/2018   \n",
       "1     200    13.0     67.6  Financing Company  6/30/2017  12/30/2018   \n",
       "2     200    14.0     73.8  Financing Company  6/30/2017  12/30/2018   \n",
       "3     200    13.0     73.8  Financing Company  6/30/2017  12/30/2018   \n",
       "4     200    12.0     64.0  Financing Company  6/30/2017  12/30/2018   \n",
       "\n",
       "   interest         interest_type  tenure  days_past_due  \n",
       "0     46.69  Fixed Interest Rates   548.0            0.0  \n",
       "1     46.69  Fixed Interest Rates   548.0            0.0  \n",
       "2     46.69  Fixed Interest Rates   548.0            0.0  \n",
       "3     46.69  Fixed Interest Rates   548.0            0.0  \n",
       "4     46.69  Fixed Interest Rates   548.0            0.0  "
      ]
     },
     "execution_count": 3,
     "metadata": {},
     "output_type": "execute_result"
    }
   ],
   "source": [
    "#printing first 5 rows of the dataset\n",
    "data.head(5)"
   ]
  },
  {
   "cell_type": "code",
   "execution_count": 4,
   "id": "e4eaf7a7",
   "metadata": {},
   "outputs": [
    {
     "data": {
      "text/plain": [
       "(10305, 18)"
      ]
     },
     "execution_count": 4,
     "metadata": {},
     "output_type": "execute_result"
    }
   ],
   "source": [
    "#checking for number of rows,columns\n",
    "data.shape"
   ]
  },
  {
   "cell_type": "code",
   "execution_count": 5,
   "id": "5d96760c",
   "metadata": {},
   "outputs": [
    {
     "data": {
      "text/plain": [
       "True"
      ]
     },
     "execution_count": 5,
     "metadata": {},
     "output_type": "execute_result"
    }
   ],
   "source": [
    "#checking if there are null values\n",
    "#true means there are null values , false means no null values \n",
    "data.isnull().values.any()"
   ]
  },
  {
   "cell_type": "code",
   "execution_count": 6,
   "id": "3df35e7b",
   "metadata": {},
   "outputs": [
    {
     "data": {
      "text/plain": [
       "36754"
      ]
     },
     "execution_count": 6,
     "metadata": {},
     "output_type": "execute_result"
    }
   ],
   "source": [
    "#0 means no null values\n",
    "data.isnull().sum().sum()"
   ]
  },
  {
   "cell_type": "code",
   "execution_count": 7,
   "id": "88be02f5",
   "metadata": {},
   "outputs": [],
   "source": [
    "#dropping unnecessary columns as they are not needed\n",
    "data = data.drop(['loan_id','creditor_id','requested_date','payment_date','due_date','repayment_date'\n",
    "                 ,'date','due_date2'],axis=1)"
   ]
  },
  {
   "cell_type": "code",
   "execution_count": 8,
   "id": "48a460a7",
   "metadata": {},
   "outputs": [
    {
     "data": {
      "text/html": [
       "<div>\n",
       "<style scoped>\n",
       "    .dataframe tbody tr th:only-of-type {\n",
       "        vertical-align: middle;\n",
       "    }\n",
       "\n",
       "    .dataframe tbody tr th {\n",
       "        vertical-align: top;\n",
       "    }\n",
       "\n",
       "    .dataframe thead th {\n",
       "        text-align: right;\n",
       "    }\n",
       "</style>\n",
       "<table border=\"1\" class=\"dataframe\">\n",
       "  <thead>\n",
       "    <tr style=\"text-align: right;\">\n",
       "      <th></th>\n",
       "      <th>region_id</th>\n",
       "      <th>subdistrict_id</th>\n",
       "      <th>amount</th>\n",
       "      <th>volume</th>\n",
       "      <th>quality</th>\n",
       "      <th>loan_type</th>\n",
       "      <th>interest</th>\n",
       "      <th>interest_type</th>\n",
       "      <th>tenure</th>\n",
       "      <th>days_past_due</th>\n",
       "    </tr>\n",
       "  </thead>\n",
       "  <tbody>\n",
       "    <tr>\n",
       "      <th>0</th>\n",
       "      <td>6</td>\n",
       "      <td>0</td>\n",
       "      <td>200</td>\n",
       "      <td>14.0</td>\n",
       "      <td>73.3</td>\n",
       "      <td>Financing Company</td>\n",
       "      <td>46.69</td>\n",
       "      <td>Fixed Interest Rates</td>\n",
       "      <td>548.0</td>\n",
       "      <td>0.0</td>\n",
       "    </tr>\n",
       "    <tr>\n",
       "      <th>1</th>\n",
       "      <td>6</td>\n",
       "      <td>9</td>\n",
       "      <td>200</td>\n",
       "      <td>13.0</td>\n",
       "      <td>67.6</td>\n",
       "      <td>Financing Company</td>\n",
       "      <td>46.69</td>\n",
       "      <td>Fixed Interest Rates</td>\n",
       "      <td>548.0</td>\n",
       "      <td>0.0</td>\n",
       "    </tr>\n",
       "    <tr>\n",
       "      <th>2</th>\n",
       "      <td>6</td>\n",
       "      <td>36</td>\n",
       "      <td>200</td>\n",
       "      <td>14.0</td>\n",
       "      <td>73.8</td>\n",
       "      <td>Financing Company</td>\n",
       "      <td>46.69</td>\n",
       "      <td>Fixed Interest Rates</td>\n",
       "      <td>548.0</td>\n",
       "      <td>0.0</td>\n",
       "    </tr>\n",
       "    <tr>\n",
       "      <th>3</th>\n",
       "      <td>6</td>\n",
       "      <td>33</td>\n",
       "      <td>200</td>\n",
       "      <td>13.0</td>\n",
       "      <td>73.8</td>\n",
       "      <td>Financing Company</td>\n",
       "      <td>46.69</td>\n",
       "      <td>Fixed Interest Rates</td>\n",
       "      <td>548.0</td>\n",
       "      <td>0.0</td>\n",
       "    </tr>\n",
       "    <tr>\n",
       "      <th>4</th>\n",
       "      <td>6</td>\n",
       "      <td>13</td>\n",
       "      <td>200</td>\n",
       "      <td>12.0</td>\n",
       "      <td>64.0</td>\n",
       "      <td>Financing Company</td>\n",
       "      <td>46.69</td>\n",
       "      <td>Fixed Interest Rates</td>\n",
       "      <td>548.0</td>\n",
       "      <td>0.0</td>\n",
       "    </tr>\n",
       "  </tbody>\n",
       "</table>\n",
       "</div>"
      ],
      "text/plain": [
       "   region_id  subdistrict_id  amount  volume  quality          loan_type  \\\n",
       "0          6               0     200    14.0     73.3  Financing Company   \n",
       "1          6               9     200    13.0     67.6  Financing Company   \n",
       "2          6              36     200    14.0     73.8  Financing Company   \n",
       "3          6              33     200    13.0     73.8  Financing Company   \n",
       "4          6              13     200    12.0     64.0  Financing Company   \n",
       "\n",
       "   interest         interest_type  tenure  days_past_due  \n",
       "0     46.69  Fixed Interest Rates   548.0            0.0  \n",
       "1     46.69  Fixed Interest Rates   548.0            0.0  \n",
       "2     46.69  Fixed Interest Rates   548.0            0.0  \n",
       "3     46.69  Fixed Interest Rates   548.0            0.0  \n",
       "4     46.69  Fixed Interest Rates   548.0            0.0  "
      ]
     },
     "execution_count": 8,
     "metadata": {},
     "output_type": "execute_result"
    }
   ],
   "source": [
    "#checking whether the columns are dropped or not\n",
    "data.head(5)"
   ]
  },
  {
   "cell_type": "code",
   "execution_count": 9,
   "id": "f3387d77",
   "metadata": {},
   "outputs": [
    {
     "data": {
      "text/plain": [
       "Fixed Interest Rates       3983\n",
       "Floating Interest Rates    2366\n",
       "Others                      152\n",
       "Margin                        8\n",
       "Name: interest_type, dtype: int64"
      ]
     },
     "execution_count": 9,
     "metadata": {},
     "output_type": "execute_result"
    }
   ],
   "source": [
    "#getting info about interest_type\n",
    "data['interest_type'].value_counts()"
   ]
  },
  {
   "cell_type": "code",
   "execution_count": 10,
   "id": "c862cb1f",
   "metadata": {},
   "outputs": [
    {
     "data": {
      "text/plain": [
       "Conventional Commercial Bank    4856\n",
       "Financing Company               1429\n",
       "Conventional Rural Bank          224\n",
       "Name: loan_type, dtype: int64"
      ]
     },
     "execution_count": 10,
     "metadata": {},
     "output_type": "execute_result"
    }
   ],
   "source": [
    "#getting info about loan_type\n",
    "data['loan_type'].value_counts()"
   ]
  },
  {
   "cell_type": "code",
   "execution_count": 11,
   "id": "65e597ac",
   "metadata": {},
   "outputs": [
    {
     "data": {
      "text/plain": [
       "6    7040\n",
       "2    3255\n",
       "3      10\n",
       "Name: region_id, dtype: int64"
      ]
     },
     "execution_count": 11,
     "metadata": {},
     "output_type": "execute_result"
    }
   ],
   "source": [
    "#getting info about REGION\n",
    "data['region_id'].value_counts()"
   ]
  },
  {
   "cell_type": "code",
   "execution_count": 12,
   "id": "0ba96d65",
   "metadata": {},
   "outputs": [
    {
     "data": {
      "text/plain": [
       "38     533\n",
       "3      473\n",
       "4      364\n",
       "49     296\n",
       "33     287\n",
       "      ... \n",
       "317      1\n",
       "374      1\n",
       "275      1\n",
       "298      1\n",
       "451      1\n",
       "Name: subdistrict_id, Length: 377, dtype: int64"
      ]
     },
     "execution_count": 12,
     "metadata": {},
     "output_type": "execute_result"
    }
   ],
   "source": [
    "#getting info about SUBDISTRICT\n",
    "data['subdistrict_id'].value_counts()"
   ]
  },
  {
   "cell_type": "code",
   "execution_count": 13,
   "id": "3f37b1fc",
   "metadata": {},
   "outputs": [],
   "source": [
    "#dropping subdistrict id as it won't contribute much\n",
    "data=data.drop(['subdistrict_id'],axis=1)"
   ]
  },
  {
   "cell_type": "code",
   "execution_count": 14,
   "id": "5f2454af",
   "metadata": {},
   "outputs": [
    {
     "name": "stdout",
     "output_type": "stream",
     "text": [
      "<class 'pandas.core.frame.DataFrame'>\n",
      "RangeIndex: 10305 entries, 0 to 10304\n",
      "Data columns (total 9 columns):\n",
      " #   Column         Non-Null Count  Dtype  \n",
      "---  ------         --------------  -----  \n",
      " 0   region_id      10305 non-null  int64  \n",
      " 1   amount         10305 non-null  int64  \n",
      " 2   volume         9052 non-null   float64\n",
      " 3   quality        8980 non-null   float64\n",
      " 4   loan_type      6509 non-null   object \n",
      " 5   interest       6509 non-null   float64\n",
      " 6   interest_type  6509 non-null   object \n",
      " 7   tenure         6509 non-null   float64\n",
      " 8   days_past_due  6509 non-null   float64\n",
      "dtypes: float64(5), int64(2), object(2)\n",
      "memory usage: 724.7+ KB\n"
     ]
    }
   ],
   "source": [
    "data.info()"
   ]
  },
  {
   "cell_type": "code",
   "execution_count": 15,
   "id": "e1e24423",
   "metadata": {},
   "outputs": [],
   "source": [
    "#performing imputation to replace missing values with mean of that column\n",
    "from sklearn.impute import SimpleImputer\n",
    "\n",
    "fill_values = SimpleImputer(missing_values=0, strategy=\"mean\")"
   ]
  },
  {
   "cell_type": "code",
   "execution_count": 16,
   "id": "b22538fe",
   "metadata": {},
   "outputs": [
    {
     "name": "stdout",
     "output_type": "stream",
     "text": [
      "<class 'pandas.core.frame.DataFrame'>\n",
      "RangeIndex: 10305 entries, 0 to 10304\n",
      "Data columns (total 9 columns):\n",
      " #   Column         Non-Null Count  Dtype  \n",
      "---  ------         --------------  -----  \n",
      " 0   region_id      10305 non-null  int64  \n",
      " 1   amount         10305 non-null  int64  \n",
      " 2   volume         9052 non-null   float64\n",
      " 3   quality        8980 non-null   float64\n",
      " 4   loan_type      6509 non-null   object \n",
      " 5   interest       6509 non-null   float64\n",
      " 6   interest_type  6509 non-null   object \n",
      " 7   tenure         6509 non-null   float64\n",
      " 8   days_past_due  6509 non-null   float64\n",
      "dtypes: float64(5), int64(2), object(2)\n",
      "memory usage: 724.7+ KB\n"
     ]
    }
   ],
   "source": [
    "data.info()"
   ]
  },
  {
   "cell_type": "code",
   "execution_count": 17,
   "id": "39c12384",
   "metadata": {},
   "outputs": [
    {
     "name": "stderr",
     "output_type": "stream",
     "text": [
      "C:\\Users\\LENOVO\\AppData\\Local\\Temp\\ipykernel_15132\\1800650740.py:2: FutureWarning: The default value of numeric_only in DataFrame.median is deprecated. In a future version, it will default to False. In addition, specifying 'numeric_only=None' is deprecated. Select only valid columns or specify the value of numeric_only to silence this warning.\n",
      "  data = data.fillna(data.median())\n"
     ]
    }
   ],
   "source": [
    "#performing imputation to replace missing values with median of that column\n",
    "data = data.fillna(data.median())"
   ]
  },
  {
   "cell_type": "code",
   "execution_count": 18,
   "id": "b4d750cb",
   "metadata": {},
   "outputs": [
    {
     "name": "stdout",
     "output_type": "stream",
     "text": [
      "<class 'pandas.core.frame.DataFrame'>\n",
      "RangeIndex: 10305 entries, 0 to 10304\n",
      "Data columns (total 9 columns):\n",
      " #   Column         Non-Null Count  Dtype  \n",
      "---  ------         --------------  -----  \n",
      " 0   region_id      10305 non-null  int64  \n",
      " 1   amount         10305 non-null  int64  \n",
      " 2   volume         10305 non-null  float64\n",
      " 3   quality        10305 non-null  float64\n",
      " 4   loan_type      6509 non-null   object \n",
      " 5   interest       10305 non-null  float64\n",
      " 6   interest_type  6509 non-null   object \n",
      " 7   tenure         10305 non-null  float64\n",
      " 8   days_past_due  10305 non-null  float64\n",
      "dtypes: float64(5), int64(2), object(2)\n",
      "memory usage: 724.7+ KB\n"
     ]
    }
   ],
   "source": [
    "data.info()"
   ]
  },
  {
   "cell_type": "code",
   "execution_count": 19,
   "id": "8e5e3541",
   "metadata": {},
   "outputs": [],
   "source": [
    "#converting interest_type(categorical variables) into numeric values by mapping\n",
    "data['interest_type'] = data['interest_type'].replace({'Fixed Interest Rates': 1, 'Floating Interest Rates': 0})"
   ]
  },
  {
   "cell_type": "code",
   "execution_count": 20,
   "id": "1ea4d784",
   "metadata": {},
   "outputs": [],
   "source": [
    "#converting loan_type(categorical variables) into numeric values by mapping\n",
    "data['loan_type'] = data['loan_type'].replace({'Financing Company': 1, 'Conventional Commercial Bank': 0,\n",
    "                                               'Conventional Rural Bank':2})"
   ]
  },
  {
   "cell_type": "code",
   "execution_count": 21,
   "id": "82caa364",
   "metadata": {},
   "outputs": [
    {
     "name": "stdout",
     "output_type": "stream",
     "text": [
      "<class 'pandas.core.frame.DataFrame'>\n",
      "RangeIndex: 10305 entries, 0 to 10304\n",
      "Data columns (total 9 columns):\n",
      " #   Column         Non-Null Count  Dtype  \n",
      "---  ------         --------------  -----  \n",
      " 0   region_id      10305 non-null  int64  \n",
      " 1   amount         10305 non-null  int64  \n",
      " 2   volume         10305 non-null  float64\n",
      " 3   quality        10305 non-null  float64\n",
      " 4   loan_type      6509 non-null   float64\n",
      " 5   interest       10305 non-null  float64\n",
      " 6   interest_type  6509 non-null   object \n",
      " 7   tenure         10305 non-null  float64\n",
      " 8   days_past_due  10305 non-null  float64\n",
      "dtypes: float64(6), int64(2), object(1)\n",
      "memory usage: 724.7+ KB\n"
     ]
    }
   ],
   "source": [
    "data.info()"
   ]
  },
  {
   "cell_type": "code",
   "execution_count": 22,
   "id": "91e20264",
   "metadata": {},
   "outputs": [],
   "source": [
    "data.dropna(inplace=True)"
   ]
  },
  {
   "cell_type": "code",
   "execution_count": 23,
   "id": "a08a45c5",
   "metadata": {},
   "outputs": [
    {
     "name": "stdout",
     "output_type": "stream",
     "text": [
      "<class 'pandas.core.frame.DataFrame'>\n",
      "Int64Index: 6509 entries, 0 to 10304\n",
      "Data columns (total 9 columns):\n",
      " #   Column         Non-Null Count  Dtype  \n",
      "---  ------         --------------  -----  \n",
      " 0   region_id      6509 non-null   int64  \n",
      " 1   amount         6509 non-null   int64  \n",
      " 2   volume         6509 non-null   float64\n",
      " 3   quality        6509 non-null   float64\n",
      " 4   loan_type      6509 non-null   float64\n",
      " 5   interest       6509 non-null   float64\n",
      " 6   interest_type  6509 non-null   object \n",
      " 7   tenure         6509 non-null   float64\n",
      " 8   days_past_due  6509 non-null   float64\n",
      "dtypes: float64(6), int64(2), object(1)\n",
      "memory usage: 508.5+ KB\n"
     ]
    }
   ],
   "source": [
    "data.info()"
   ]
  },
  {
   "cell_type": "code",
   "execution_count": 24,
   "id": "5c128b57",
   "metadata": {},
   "outputs": [
    {
     "data": {
      "text/plain": [
       "False"
      ]
     },
     "execution_count": 24,
     "metadata": {},
     "output_type": "execute_result"
    }
   ],
   "source": [
    "data.isnull().values.any()"
   ]
  },
  {
   "cell_type": "code",
   "execution_count": 25,
   "id": "c4fe7f4a",
   "metadata": {},
   "outputs": [
    {
     "data": {
      "text/plain": [
       "0"
      ]
     },
     "execution_count": 25,
     "metadata": {},
     "output_type": "execute_result"
    }
   ],
   "source": [
    "#0 means no null values\n",
    "data.isnull().sum().sum()"
   ]
  },
  {
   "cell_type": "markdown",
   "id": "cf2fb714",
   "metadata": {},
   "source": [
    "NOW THERE ARE NO MISSING VALUES IN OUR DATASET"
   ]
  },
  {
   "cell_type": "code",
   "execution_count": 26,
   "id": "d306ca0a",
   "metadata": {},
   "outputs": [
    {
     "data": {
      "text/html": [
       "<div>\n",
       "<style scoped>\n",
       "    .dataframe tbody tr th:only-of-type {\n",
       "        vertical-align: middle;\n",
       "    }\n",
       "\n",
       "    .dataframe tbody tr th {\n",
       "        vertical-align: top;\n",
       "    }\n",
       "\n",
       "    .dataframe thead th {\n",
       "        text-align: right;\n",
       "    }\n",
       "</style>\n",
       "<table border=\"1\" class=\"dataframe\">\n",
       "  <thead>\n",
       "    <tr style=\"text-align: right;\">\n",
       "      <th></th>\n",
       "      <th>region_id</th>\n",
       "      <th>amount</th>\n",
       "      <th>volume</th>\n",
       "      <th>quality</th>\n",
       "      <th>loan_type</th>\n",
       "      <th>interest</th>\n",
       "      <th>interest_type</th>\n",
       "      <th>tenure</th>\n",
       "      <th>days_past_due</th>\n",
       "    </tr>\n",
       "  </thead>\n",
       "  <tbody>\n",
       "    <tr>\n",
       "      <th>0</th>\n",
       "      <td>6</td>\n",
       "      <td>200</td>\n",
       "      <td>14.0</td>\n",
       "      <td>73.3</td>\n",
       "      <td>1.0</td>\n",
       "      <td>46.69</td>\n",
       "      <td>1</td>\n",
       "      <td>548.0</td>\n",
       "      <td>0.0</td>\n",
       "    </tr>\n",
       "    <tr>\n",
       "      <th>1</th>\n",
       "      <td>6</td>\n",
       "      <td>200</td>\n",
       "      <td>13.0</td>\n",
       "      <td>67.6</td>\n",
       "      <td>1.0</td>\n",
       "      <td>46.69</td>\n",
       "      <td>1</td>\n",
       "      <td>548.0</td>\n",
       "      <td>0.0</td>\n",
       "    </tr>\n",
       "    <tr>\n",
       "      <th>2</th>\n",
       "      <td>6</td>\n",
       "      <td>200</td>\n",
       "      <td>14.0</td>\n",
       "      <td>73.8</td>\n",
       "      <td>1.0</td>\n",
       "      <td>46.69</td>\n",
       "      <td>1</td>\n",
       "      <td>548.0</td>\n",
       "      <td>0.0</td>\n",
       "    </tr>\n",
       "    <tr>\n",
       "      <th>3</th>\n",
       "      <td>6</td>\n",
       "      <td>200</td>\n",
       "      <td>13.0</td>\n",
       "      <td>73.8</td>\n",
       "      <td>1.0</td>\n",
       "      <td>46.69</td>\n",
       "      <td>1</td>\n",
       "      <td>548.0</td>\n",
       "      <td>0.0</td>\n",
       "    </tr>\n",
       "    <tr>\n",
       "      <th>4</th>\n",
       "      <td>6</td>\n",
       "      <td>200</td>\n",
       "      <td>12.0</td>\n",
       "      <td>64.0</td>\n",
       "      <td>1.0</td>\n",
       "      <td>46.69</td>\n",
       "      <td>1</td>\n",
       "      <td>548.0</td>\n",
       "      <td>0.0</td>\n",
       "    </tr>\n",
       "  </tbody>\n",
       "</table>\n",
       "</div>"
      ],
      "text/plain": [
       "   region_id  amount  volume  quality  loan_type  interest interest_type  \\\n",
       "0          6     200    14.0     73.3        1.0     46.69             1   \n",
       "1          6     200    13.0     67.6        1.0     46.69             1   \n",
       "2          6     200    14.0     73.8        1.0     46.69             1   \n",
       "3          6     200    13.0     73.8        1.0     46.69             1   \n",
       "4          6     200    12.0     64.0        1.0     46.69             1   \n",
       "\n",
       "   tenure  days_past_due  \n",
       "0   548.0            0.0  \n",
       "1   548.0            0.0  \n",
       "2   548.0            0.0  \n",
       "3   548.0            0.0  \n",
       "4   548.0            0.0  "
      ]
     },
     "execution_count": 26,
     "metadata": {},
     "output_type": "execute_result"
    }
   ],
   "source": [
    "data.head(5)"
   ]
  },
  {
   "cell_type": "code",
   "execution_count": 27,
   "id": "8c464418",
   "metadata": {},
   "outputs": [
    {
     "data": {
      "text/plain": [
       "0.0       5278\n",
       "5.0        155\n",
       "4617.0     152\n",
       "2104.0      94\n",
       "249.0       84\n",
       "404.0       76\n",
       "34.0        71\n",
       "269.0       53\n",
       "22.0        52\n",
       "30.0        46\n",
       "72.0        42\n",
       "262.0       38\n",
       "73.0        35\n",
       "267.0       35\n",
       "1.0         26\n",
       "684.0       23\n",
       "4.0         21\n",
       "143.0       21\n",
       "116.0       20\n",
       "150.0       15\n",
       "7.0         15\n",
       "8.0         15\n",
       "41.0        14\n",
       "57.0        14\n",
       "137.0       12\n",
       "92.0        10\n",
       "1770.0       6\n",
       "1727.0       6\n",
       "395.0        6\n",
       "159.0        5\n",
       "154.0        5\n",
       "271.0        5\n",
       "216.0        5\n",
       "86.0         4\n",
       "27.0         4\n",
       "110.0        4\n",
       "353.0        4\n",
       "61.0         4\n",
       "71.0         4\n",
       "38.0         4\n",
       "220.0        3\n",
       "185.0        3\n",
       "691.0        3\n",
       "97.0         3\n",
       "1228.0       3\n",
       "18.0         2\n",
       "74.0         2\n",
       "90.0         2\n",
       "129.0        1\n",
       "25.0         1\n",
       "16.0         1\n",
       "146.0        1\n",
       "210.0        1\n",
       "Name: days_past_due, dtype: int64"
      ]
     },
     "execution_count": 27,
     "metadata": {},
     "output_type": "execute_result"
    }
   ],
   "source": [
    "data['days_past_due'].value_counts()"
   ]
  },
  {
   "cell_type": "code",
   "execution_count": 28,
   "id": "b4f6b853",
   "metadata": {},
   "outputs": [],
   "source": [
    "#creating three different categories for low risk , medium risk and high risk\n",
    "data['days_past_due'] = pd.cut(data['days_past_due'], bins=[-1, 5, 50, float('inf')], labels=[0, 1, 2])\n"
   ]
  },
  {
   "cell_type": "code",
   "execution_count": 29,
   "id": "5c057873",
   "metadata": {},
   "outputs": [
    {
     "data": {
      "text/plain": [
       "0    5480\n",
       "2     804\n",
       "1     225\n",
       "Name: days_past_due, dtype: int64"
      ]
     },
     "execution_count": 29,
     "metadata": {},
     "output_type": "execute_result"
    }
   ],
   "source": [
    "data['days_past_due'].value_counts()"
   ]
  },
  {
   "cell_type": "code",
   "execution_count": 30,
   "id": "113fcf56",
   "metadata": {},
   "outputs": [
    {
     "name": "stderr",
     "output_type": "stream",
     "text": [
      "C:\\Users\\LENOVO\\AppData\\Local\\Temp\\ipykernel_15132\\2627137660.py:1: FutureWarning: The default value of numeric_only in DataFrame.corr is deprecated. In a future version, it will default to False. Select only valid columns or specify the value of numeric_only to silence this warning.\n",
      "  data.corr()\n"
     ]
    },
    {
     "data": {
      "text/html": [
       "<div>\n",
       "<style scoped>\n",
       "    .dataframe tbody tr th:only-of-type {\n",
       "        vertical-align: middle;\n",
       "    }\n",
       "\n",
       "    .dataframe tbody tr th {\n",
       "        vertical-align: top;\n",
       "    }\n",
       "\n",
       "    .dataframe thead th {\n",
       "        text-align: right;\n",
       "    }\n",
       "</style>\n",
       "<table border=\"1\" class=\"dataframe\">\n",
       "  <thead>\n",
       "    <tr style=\"text-align: right;\">\n",
       "      <th></th>\n",
       "      <th>region_id</th>\n",
       "      <th>amount</th>\n",
       "      <th>volume</th>\n",
       "      <th>quality</th>\n",
       "      <th>loan_type</th>\n",
       "      <th>interest</th>\n",
       "      <th>tenure</th>\n",
       "    </tr>\n",
       "  </thead>\n",
       "  <tbody>\n",
       "    <tr>\n",
       "      <th>region_id</th>\n",
       "      <td>1.000000</td>\n",
       "      <td>-0.019484</td>\n",
       "      <td>0.093514</td>\n",
       "      <td>-0.461558</td>\n",
       "      <td>-0.126045</td>\n",
       "      <td>-0.118924</td>\n",
       "      <td>0.047993</td>\n",
       "    </tr>\n",
       "    <tr>\n",
       "      <th>amount</th>\n",
       "      <td>-0.019484</td>\n",
       "      <td>1.000000</td>\n",
       "      <td>-0.000937</td>\n",
       "      <td>0.029303</td>\n",
       "      <td>0.034066</td>\n",
       "      <td>0.027503</td>\n",
       "      <td>0.015435</td>\n",
       "    </tr>\n",
       "    <tr>\n",
       "      <th>volume</th>\n",
       "      <td>0.093514</td>\n",
       "      <td>-0.000937</td>\n",
       "      <td>1.000000</td>\n",
       "      <td>-0.236975</td>\n",
       "      <td>-0.061736</td>\n",
       "      <td>-0.069953</td>\n",
       "      <td>0.030705</td>\n",
       "    </tr>\n",
       "    <tr>\n",
       "      <th>quality</th>\n",
       "      <td>-0.461558</td>\n",
       "      <td>0.029303</td>\n",
       "      <td>-0.236975</td>\n",
       "      <td>1.000000</td>\n",
       "      <td>0.079372</td>\n",
       "      <td>0.066894</td>\n",
       "      <td>-0.064784</td>\n",
       "    </tr>\n",
       "    <tr>\n",
       "      <th>loan_type</th>\n",
       "      <td>-0.126045</td>\n",
       "      <td>0.034066</td>\n",
       "      <td>-0.061736</td>\n",
       "      <td>0.079372</td>\n",
       "      <td>1.000000</td>\n",
       "      <td>0.347730</td>\n",
       "      <td>-0.000473</td>\n",
       "    </tr>\n",
       "    <tr>\n",
       "      <th>interest</th>\n",
       "      <td>-0.118924</td>\n",
       "      <td>0.027503</td>\n",
       "      <td>-0.069953</td>\n",
       "      <td>0.066894</td>\n",
       "      <td>0.347730</td>\n",
       "      <td>1.000000</td>\n",
       "      <td>0.003426</td>\n",
       "    </tr>\n",
       "    <tr>\n",
       "      <th>tenure</th>\n",
       "      <td>0.047993</td>\n",
       "      <td>0.015435</td>\n",
       "      <td>0.030705</td>\n",
       "      <td>-0.064784</td>\n",
       "      <td>-0.000473</td>\n",
       "      <td>0.003426</td>\n",
       "      <td>1.000000</td>\n",
       "    </tr>\n",
       "  </tbody>\n",
       "</table>\n",
       "</div>"
      ],
      "text/plain": [
       "           region_id    amount    volume   quality  loan_type  interest  \\\n",
       "region_id   1.000000 -0.019484  0.093514 -0.461558  -0.126045 -0.118924   \n",
       "amount     -0.019484  1.000000 -0.000937  0.029303   0.034066  0.027503   \n",
       "volume      0.093514 -0.000937  1.000000 -0.236975  -0.061736 -0.069953   \n",
       "quality    -0.461558  0.029303 -0.236975  1.000000   0.079372  0.066894   \n",
       "loan_type  -0.126045  0.034066 -0.061736  0.079372   1.000000  0.347730   \n",
       "interest   -0.118924  0.027503 -0.069953  0.066894   0.347730  1.000000   \n",
       "tenure      0.047993  0.015435  0.030705 -0.064784  -0.000473  0.003426   \n",
       "\n",
       "             tenure  \n",
       "region_id  0.047993  \n",
       "amount     0.015435  \n",
       "volume     0.030705  \n",
       "quality   -0.064784  \n",
       "loan_type -0.000473  \n",
       "interest   0.003426  \n",
       "tenure     1.000000  "
      ]
     },
     "execution_count": 30,
     "metadata": {},
     "output_type": "execute_result"
    }
   ],
   "source": [
    "data.corr()"
   ]
  },
  {
   "cell_type": "code",
   "execution_count": 31,
   "id": "d579fe71",
   "metadata": {},
   "outputs": [
    {
     "name": "stderr",
     "output_type": "stream",
     "text": [
      "C:\\Users\\LENOVO\\AppData\\Local\\Temp\\ipykernel_15132\\3302115227.py:5: FutureWarning: The default value of numeric_only in DataFrame.corr is deprecated. In a future version, it will default to False. Select only valid columns or specify the value of numeric_only to silence this warning.\n",
      "  corrmat = data.corr()\n"
     ]
    },
    {
     "data": {
      "image/png": "[encoded data removed]",
      "text/plain": [
       "<Figure size 1440x1440 with 2 Axes>"
      ]
     },
     "metadata": {
      "needs_background": "light"
     },
     "output_type": "display_data"
    }
   ],
   "source": [
    "## Correlation\n",
    "import seaborn as sns\n",
    "import matplotlib.pyplot as plt\n",
    "#get correlations of each features in dataset\n",
    "corrmat = data.corr()\n",
    "top_corr_features = corrmat.index\n",
    "plt.figure(figsize=(20,20))\n",
    "#plot heat map\n",
    "g=sns.heatmap(data[top_corr_features].corr(),annot=True,cmap=\"RdYlGn\")\n",
    "plt.show()"
   ]
  },
  {
   "cell_type": "code",
   "execution_count": 32,
   "id": "bb872306",
   "metadata": {},
   "outputs": [
    {
     "data": {
      "text/plain": [
       "0    5480\n",
       "2     804\n",
       "1     225\n",
       "Name: days_past_due, dtype: int64"
      ]
     },
     "execution_count": 32,
     "metadata": {},
     "output_type": "execute_result"
    }
   ],
   "source": [
    "data['days_past_due'].value_counts()"
   ]
  },
  {
   "cell_type": "code",
   "execution_count": 33,
   "id": "0775a0b6",
   "metadata": {},
   "outputs": [
    {
     "data": {
      "image/png": "[encoded data removed]",
      "text/plain": [
       "<Figure size 432x288 with 1 Axes>"
      ]
     },
     "metadata": {
      "needs_background": "light"
     },
     "output_type": "display_data"
    }
   ],
   "source": [
    "#plotting graph for visualizing number of people who payed loan early vs payed loan late vs payed too late\n",
    "#0: payed early\n",
    "#1: payed late\n",
    "#2: payed too late\n",
    "ax = sns.countplot(x='days_past_due',   data= data)\n",
    "plt.xlabel('Loan Payed', size = 12)\n",
    "plt.xticks(rotation=90, size = 12)\n",
    "plt.ylabel('Count', size = 12)\n",
    "plt.title('Distribution of loan payers  \\n\\n', size = 12)\n",
    "plt.show()"
   ]
  },
  {
   "cell_type": "markdown",
   "id": "5c4c3994",
   "metadata": {},
   "source": [
    "# FEATURE ENGINEERING"
   ]
  },
  {
   "cell_type": "code",
   "execution_count": 34,
   "id": "a24fa22f",
   "metadata": {},
   "outputs": [
    {
     "name": "stdout",
     "output_type": "stream",
     "text": [
      "Code: 1\n",
      "Value 0: 936\n",
      "Value 1: 137\n",
      "Value 2: 356\n",
      "Code: 0\n",
      "Value 0: 4399\n",
      "Value 1: 41\n",
      "Value 2: 416\n",
      "Code: 2\n",
      "Value 0: 145\n",
      "Value 1: 47\n",
      "Value 2: 32\n"
     ]
    }
   ],
   "source": [
    "#function for printing how many values are there in day_past_column with respect to each value in our loan_type column\n",
    "grouped = data.groupby(['loan_type', 'days_past_due']).size().reset_index(name='count')\n",
    "\n",
    "# print the count for loan_type and days_past_due combination\n",
    "for i in [1,0,2]:\n",
    "    print(f\"Code: {i}\")\n",
    "    for j in [0, 1,2]:\n",
    "        count = grouped.loc[(grouped['loan_type']==i) & (grouped['days_past_due']==j), 'count'].values\n",
    "        if count.size > 0:\n",
    "            print(f\"Value {j}: {count[0]}\")\n",
    "        else:\n",
    "            print(f\"Value {j}: 0\")"
   ]
  },
  {
   "cell_type": "code",
   "execution_count": 35,
   "id": "7121538a",
   "metadata": {},
   "outputs": [
    {
     "data": {
      "image/png": "[encoded data removed]",
      "text/plain": [
       "<Figure size 432x288 with 1 Axes>"
      ]
     },
     "metadata": {
      "needs_background": "light"
     },
     "output_type": "display_data"
    }
   ],
   "source": [
    "#plotting bar graph\n",
    "import matplotlib.pyplot as plt\n",
    "y=['Financing company and loan payed on time', 'Financing company and loan payed late',\n",
    "   'Financing company and loan payed too late',\n",
    "   'Conventional Commercial Bank and loan payed on time',\n",
    "   'Conventional Commercial Bank and loan payed late','Conventional Commercial Bank and loan payed too late',\n",
    "   'Conventional Rural Bank and loan payed on time',\n",
    "   'Conventional Rural Bank and loan payed late','Conventional Rural Bank and loan payed too late'\n",
    "  ]\n",
    " \n",
    "# getting values against each value of y\n",
    "x=[936,137,356,4399,41,416,145,47,32]\n",
    "plt.barh(y, x)\n",
    " \n",
    "# setting label of y-axis\n",
    "plt.ylabel(\"Loan Type\")\n",
    " \n",
    "# setting label of x-axis\n",
    "plt.xlabel(\"Count\")\n",
    "plt.title(\"Graph\")\n",
    "plt.show()"
   ]
  },
  {
   "cell_type": "markdown",
   "id": "d76d1b6f",
   "metadata": {},
   "source": [
    "FROM THE GRAPH WE CAN OBSERVE THAT PEOPLE WHO TOOK LOAN FROM CONVENTIONAL COMMERCIAL BANK PAYED LOAN ON TIME AS COMPARED TO OTHERS"
   ]
  },
  {
   "cell_type": "code",
   "execution_count": 36,
   "id": "ea48c29f",
   "metadata": {},
   "outputs": [
    {
     "data": {
      "text/plain": [
       "1         3983\n",
       "0         2366\n",
       "Others     152\n",
       "Margin       8\n",
       "Name: interest_type, dtype: int64"
      ]
     },
     "execution_count": 36,
     "metadata": {},
     "output_type": "execute_result"
    }
   ],
   "source": [
    "data['interest_type'].value_counts()"
   ]
  },
  {
   "cell_type": "code",
   "execution_count": 37,
   "id": "f3dcefbb",
   "metadata": {},
   "outputs": [
    {
     "name": "stdout",
     "output_type": "stream",
     "text": [
      "Code: 0\n",
      "Value 0: 2153\n",
      "Value 1: 15\n",
      "Value 2: 198\n",
      "Code: 1\n",
      "Value 0: 3320\n",
      "Value 1: 210\n",
      "Value 2: 453\n"
     ]
    }
   ],
   "source": [
    "#function for printing how many values are there in day_past_column with respect to each value in our interest_type column\n",
    "cluster = data.groupby(['interest_type', 'days_past_due']).size().reset_index(name='count')\n",
    "\n",
    "# print the count for each interest_type and days_past_due combination\n",
    "for i in [0, 1]:\n",
    "    print(f\"Code: {i}\")\n",
    "    for j in [0, 1,2]:\n",
    "        count = cluster.loc[(cluster['interest_type']==i) & (cluster['days_past_due']==j), 'count'].values\n",
    "        if count.size > 0:\n",
    "            print(f\"Value {j}: {count[0]}\")\n",
    "        else:\n",
    "            print(f\"Value {j}: 0\")"
   ]
  },
  {
   "cell_type": "code",
   "execution_count": 38,
   "id": "0c3d3d14",
   "metadata": {},
   "outputs": [
    {
     "data": {
      "image/png": "[encoded data removed]",
      "text/plain": [
       "<Figure size 432x288 with 1 Axes>"
      ]
     },
     "metadata": {
      "needs_background": "light"
     },
     "output_type": "display_data"
    }
   ],
   "source": [
    "#plotting bar graph\n",
    "import matplotlib.pyplot as plt\n",
    "y=['Floating interest rate and loan payed on time', 'Floating interest rate and loan payed late',\n",
    "   'Floating interest rate and loan payed too late',\n",
    "   'Fixed interest rate and loan payed on time',\n",
    "   'Fixed interest rate and loan payed late','Fixed interest rate and loan payed too late']\n",
    " \n",
    "# getting values against each value of y\n",
    "x=[2153,15,198,3320,210,453]\n",
    "plt.barh(y, x)\n",
    " \n",
    "# setting label of y-axis\n",
    "plt.ylabel(\"Interest Type\")\n",
    " \n",
    "# setting label of x-axis\n",
    "plt.xlabel(\"Count\")\n",
    "plt.title(\"Graph\")\n",
    "plt.show()"
   ]
  },
  {
   "cell_type": "markdown",
   "id": "cf512001",
   "metadata": {},
   "source": [
    "FROM THE GRAPH WE CAN OBSERVE THAT PEOPLE WHO TOOK LOAN WITH FIXED INTEREST RATE PAYED LOAN ON TIME AS COMPARED TO OTHERS"
   ]
  },
  {
   "cell_type": "code",
   "execution_count": 39,
   "id": "cd27e1b8",
   "metadata": {},
   "outputs": [
    {
     "data": {
      "text/plain": [
       "6    4203\n",
       "2    2296\n",
       "3      10\n",
       "Name: region_id, dtype: int64"
      ]
     },
     "execution_count": 39,
     "metadata": {},
     "output_type": "execute_result"
    }
   ],
   "source": [
    "data['region_id'].value_counts()"
   ]
  },
  {
   "cell_type": "code",
   "execution_count": 40,
   "id": "4ae361d2",
   "metadata": {},
   "outputs": [
    {
     "name": "stdout",
     "output_type": "stream",
     "text": [
      "Code: 6\n",
      "Value 0: 3576\n",
      "Value 1: 151\n",
      "Value 2: 476\n",
      "Code: 2\n",
      "Value 0: 1894\n",
      "Value 1: 74\n",
      "Value 2: 328\n",
      "Code: 3\n",
      "Value 0: 10\n",
      "Value 1: 0\n",
      "Value 2: 0\n"
     ]
    }
   ],
   "source": [
    "#function for printing how many values are there in day_past_column with respect to each value in our region_id column\n",
    "stack = data.groupby(['region_id', 'days_past_due']).size().reset_index(name='count')\n",
    "\n",
    "# print the count for each interest_type and days_past_due combination\n",
    "for i in [6, 2,3]:\n",
    "    print(f\"Code: {i}\")\n",
    "    for j in [0, 1,2]:\n",
    "        count = stack.loc[(stack['region_id']==i) & (stack['days_past_due']==j), 'count'].values\n",
    "        if count.size > 0:\n",
    "            print(f\"Value {j}: {count[0]}\")\n",
    "        else:\n",
    "            print(f\"Value {j}: 0\")"
   ]
  },
  {
   "cell_type": "code",
   "execution_count": 41,
   "id": "dd39b16d",
   "metadata": {},
   "outputs": [
    {
     "data": {
      "image/png": "[encoded data removed]",
      "text/plain": [
       "<Figure size 432x288 with 1 Axes>"
      ]
     },
     "metadata": {
      "needs_background": "light"
     },
     "output_type": "display_data"
    }
   ],
   "source": [
    "#plotting bar graph\n",
    "import matplotlib.pyplot as plt\n",
    "y=['People from region id=6 and loan payed on time', 'People from region id=6 and loan payed late',\n",
    "   'People from region id=6 and loan payed too late',\n",
    "   'People from region id=2 and loan payed on time',\n",
    "   'People from region id=2 loan payed late',\n",
    "   'People from region id=2 loan payed too late','People from region id=3 loan payed on time',\n",
    "   'People from region id=3 loan payed late','People from region id=3 loan payed too late']\n",
    " \n",
    "# getting values against each value of y\n",
    "x=[3576,151,476,1894,74,328,10,0,0]\n",
    "plt.barh(y, x)\n",
    " \n",
    "# setting label of y-axis\n",
    "plt.ylabel(\"Interest Type\")\n",
    " \n",
    "# setting label of x-axis\n",
    "plt.xlabel(\"Count\")\n",
    "plt.title(\"Graph\")\n",
    "plt.show()"
   ]
  },
  {
   "cell_type": "code",
   "execution_count": 42,
   "id": "a03682b7",
   "metadata": {},
   "outputs": [
    {
     "data": {
      "image/png": "[encoded data removed]",
      "text/plain": [
       "<Figure size 432x288 with 1 Axes>"
      ]
     },
     "metadata": {
      "needs_background": "light"
     },
     "output_type": "display_data"
    }
   ],
   "source": [
    "# Scatter plot of region_id vs amount\n",
    "plt.scatter(data['region_id'],data['amount'])\n",
    "plt.show()"
   ]
  },
  {
   "cell_type": "markdown",
   "id": "44a849c4",
   "metadata": {},
   "source": [
    "FROM THE GRAPH WE CAN OBSERVE PEOPLE FROM REGION ID 6 PAYED LOAN ON TIME AS COMPARED TO OTHERS"
   ]
  },
  {
   "cell_type": "code",
   "execution_count": 43,
   "id": "050fe8e6",
   "metadata": {},
   "outputs": [
    {
     "data": {
      "image/png": "[encoded data removed]",
      "text/plain": [
       "<Figure size 432x288 with 1 Axes>"
      ]
     },
     "metadata": {
      "needs_background": "light"
     },
     "output_type": "display_data"
    }
   ],
   "source": [
    "# Scatter plot of days_past_due vs amount\n",
    "plt.scatter(data['days_past_due'],data['amount'])\n",
    "plt.show()"
   ]
  },
  {
   "cell_type": "code",
   "execution_count": 44,
   "id": "8e48d97b",
   "metadata": {},
   "outputs": [
    {
     "data": {
      "image/png": "[encoded data removed]",
      "text/plain": [
       "<Figure size 432x288 with 1 Axes>"
      ]
     },
     "metadata": {
      "needs_background": "light"
     },
     "output_type": "display_data"
    }
   ],
   "source": [
    "# Scatter plot of amount vs interest\n",
    "plt.scatter(data['amount'],data['interest'])\n",
    "plt.show()"
   ]
  },
  {
   "cell_type": "code",
   "execution_count": 45,
   "id": "241cd75d",
   "metadata": {},
   "outputs": [
    {
     "data": {
      "image/png": "[encoded data removed]",
      "text/plain": [
       "<Figure size 432x288 with 1 Axes>"
      ]
     },
     "metadata": {
      "needs_background": "light"
     },
     "output_type": "display_data"
    }
   ],
   "source": [
    "# Scatter plot of amount vs volume\n",
    "plt.scatter(data['amount'],data['volume'])\n",
    "plt.show()"
   ]
  },
  {
   "cell_type": "markdown",
   "id": "fc1ee39d",
   "metadata": {},
   "source": [
    "# MODEL DEVELOPMENT"
   ]
  },
  {
   "cell_type": "code",
   "execution_count": 46,
   "id": "47a8f6af",
   "metadata": {},
   "outputs": [],
   "source": [
    "#creating feature and predict columns\n",
    "from sklearn.model_selection import train_test_split\n",
    "feature_columns = ['region_id','amount', 'volume', 'quality','loan_type','interest','tenure']\n",
    "predicted_class = ['days_past_due']"
   ]
  },
  {
   "cell_type": "code",
   "execution_count": 47,
   "id": "1f515946",
   "metadata": {},
   "outputs": [],
   "source": [
    "#assigning column values\n",
    "X = data[feature_columns].values\n",
    "y = data[predicted_class].values"
   ]
  },
  {
   "cell_type": "code",
   "execution_count": 48,
   "id": "626e496f",
   "metadata": {},
   "outputs": [],
   "source": [
    "X_train, X_test, y_train, y_test = train_test_split(X, y, test_size = 0.30, random_state=10)"
   ]
  },
  {
   "cell_type": "code",
   "execution_count": 49,
   "id": "163ef594",
   "metadata": {},
   "outputs": [],
   "source": [
    "#importing random forest model\n",
    "from sklearn.ensemble import RandomForestClassifier\n",
    "random_forest_model = RandomForestClassifier(random_state=10)"
   ]
  },
  {
   "cell_type": "code",
   "execution_count": 61,
   "id": "02dc8658",
   "metadata": {},
   "outputs": [],
   "source": [
    "random_forest_model.fit(X_train, y_train.ravel())\n",
    "\n",
    "predict_train_data = random_forest_model.predict(X_test)"
   ]
  },
  {
   "cell_type": "code",
   "execution_count": 55,
   "id": "71591bf9",
   "metadata": {},
   "outputs": [],
   "source": [
    "# Define XGBoost model parameters\n",
    "params = {\n",
    "    'objective': 'binary:logistic',  # classification problem\n",
    "    'colsample_bytree': 0.3,\n",
    "    'learning_rate': 0.1,\n",
    "    'max_depth': 5,\n",
    "    'alpha': 10,\n",
    "    'n_estimators': 50\n",
    "}\n",
    "\n",
    "# Create an instance of the XGBoost classifier model\n",
    "xg_clf = xgb.XGBClassifier(**params)\n",
    "\n",
    "# Fit the model on training data\n",
    "xg_clf.fit(X_train, y_train)\n",
    "\n",
    "# Predict on test data\n",
    "y_pred = xg_clf.predict(X_test)\n"
   ]
  },
  {
   "cell_type": "markdown",
   "id": "0de4b32b",
   "metadata": {},
   "source": [
    "# MODEL EVALUATION"
   ]
  },
  {
   "cell_type": "code",
   "execution_count": 62,
   "id": "0e4cd029",
   "metadata": {},
   "outputs": [
    {
     "name": "stdout",
     "output_type": "stream",
     "text": [
      "Accuracy of random forest model= 0.984\n"
     ]
    }
   ],
   "source": [
    "from sklearn import metrics\n",
    "\n",
    "print(\"Accuracy of random forest model= {0:.3f}\".format(metrics.accuracy_score(y_test, predict_train_data)))"
   ]
  },
  {
   "cell_type": "code",
   "execution_count": 63,
   "id": "b0f59411",
   "metadata": {},
   "outputs": [
    {
     "name": "stdout",
     "output_type": "stream",
     "text": [
      "Accuracy of xgboost model: 0.938556\n"
     ]
    }
   ],
   "source": [
    "accuracy = accuracy_score(y_test, y_pred)\n",
    "print(\"Accuracy of xgboost model: %f\" % (accuracy))"
   ]
  },
  {
   "cell_type": "code",
   "execution_count": 101,
   "id": "88559ebd",
   "metadata": {},
   "outputs": [
    {
     "name": "stdout",
     "output_type": "stream",
     "text": [
      "[[1645    1    2]\n",
      " [   8   57    1]\n",
      " [  20    0  219]]\n",
      "              precision    recall  f1-score   support\n",
      "\n",
      "           0       0.98      1.00      0.99      1648\n",
      "           1       0.98      0.86      0.92        66\n",
      "           2       0.99      0.92      0.95       239\n",
      "\n",
      "    accuracy                           0.98      1953\n",
      "   macro avg       0.98      0.93      0.95      1953\n",
      "weighted avg       0.98      0.98      0.98      1953\n",
      "\n"
     ]
    }
   ],
   "source": [
    "from sklearn.metrics import confusion_matrix,classification_report\n",
    "y_pred=random_forest_model.predict(X_test)\n",
    "print(confusion_matrix(y_test,y_pred))\n",
    "print(classification_report(y_test,y_pred))"
   ]
  },
  {
   "cell_type": "markdown",
   "id": "082ccfc3",
   "metadata": {},
   "source": [
    "Got an accuracy score of 98.4% for Random Forest classifier model and accuracy score of 933.8% for xgboost model\n",
    "We select the random forest model for our problem as it gave more accuracy"
   ]
  },
  {
   "cell_type": "markdown",
   "id": "211648b9",
   "metadata": {},
   "source": [
    "##TAKING INPUT FROM USER AND PREDICTING LOAN REPAYMENT"
   ]
  },
  {
   "cell_type": "code",
   "execution_count": null,
   "id": "3fce3aeb",
   "metadata": {},
   "outputs": [],
   "source": [
    "##function to take input\n",
    "region = int(input(\"Enter region_id:\"))\n",
    "amount = int(input(\"Enter amount:\"))\n",
    "volume = float(input(\"Enter volume:\"))\n",
    "quality = float(input(\"Enter quality:\"))\n",
    "loan_type = int(input(\"Enter loan_type:\"))\n",
    "interest = float(input(\"Enter Interest:\"))\n",
    "tenure = float(input(\"Enter tenure:\"))\n",
    "\n",
    "user_input = [region,amount, volume, quality, loan_type, interest,tenure] \n",
    "\n",
    "result = random_forest_model.predict([user_input])[0]\n",
    "\n",
    "\n",
    "if(result==0):\n",
    "    print(\"User will pay loan on time , there is no risk\")\n",
    "\n",
    "if(result==1):\n",
    "    print(\"Medium risk that user will not pay on time\")\n",
    "\n",
    "else:\n",
    "    print(\"High risk that user wont pay on time\")"
   ]
  },
  {
   "cell_type": "markdown",
   "id": "944c8222",
   "metadata": {},
   "source": [
    "# EXPLAINING OVERALL APPROACH AND MODEL EXPLANATION"
   ]
  },
  {
   "cell_type": "markdown",
   "id": "00b950d8",
   "metadata": {},
   "source": [
    "EDA:\n",
    "We did exploratory data analysis on the dataset. First we checked for null values and replaced them with mode and median as suitable. Loan id , creditor id , subdistrict id and columns related to dates were not contributing in finding out risk so we had to drop them. \n",
    "We then transformed loan type, region id and interest type columns into categorical variables as they had relation with risk in giving loans. We plotted graphs to analyze the impact.\n",
    "Risk in lending loan was related to days past due column as more the days after due date , more the risk in lending loan , so we selected days_past_due as our target column. We categorized the risk into 3 levels : low , medium and high. Days past due between 0-5 were categorized as low  risk , 5-50 as medium risk and above 50 as high risk.Remaining columns were selected as feature columns.\n",
    "\n",
    "MODEL:\n",
    "Random forest is a popular ensemble learning method used for classification, regression, and other machine learning tasks. The basic idea behind a random forest model is to build a collection of decision trees, where each tree is trained on a random subset of the data and a random subset of the features. This randomness helps to reduce overfitting and improve the generalization performance of the model.\n",
    "\n",
    "To create a random forest model for your dataset, you would first need to split your data into a training set and a test set. You would then train the random forest model on the training data using an appropriate number of trees and other hyperparameters, such as the maximum depth of each tree, the minimum number of samples required to split a node, and the number of features to consider when looking for the best split. Once the model is trained, you can use it to make predictions on the test data and evaluate its performance using appropriate metrics, such as accuracy, precision, recall, or F1-score, depending on the type of problem you are solving.\n",
    "\n",
    "One of the advantages of random forest models is that they can handle large datasets with many features and complex relationships between the features and the target variable. They are also relatively easy to use and interpret, since they provide information about feature importance and can be visualized as a collection of decision trees. However, they can be computationally expensive to train and may not always perform well on datasets with imbalanced classes or noisy data. Overall, random forest models can be a powerful tool for building accurate and robust machine learning models, and may be a good choice for your dataset if it fits the characteristics of the method."
   ]
  }
 ],
 "metadata": {
  "kernelspec": {
   "display_name": "Python 3 (ipykernel)",
   "language": "python",
   "name": "python3"
  },
  "language_info": {
   "codemirror_mode": {
    "name": "ipython",
    "version": 3
   },
   "file_extension": ".py",
   "mimetype": "text/x-python",
   "name": "python",
   "nbconvert_exporter": "python",
   "pygments_lexer": "ipython3",
   "version": "3.9.12"
  }
 },
 "nbformat": 4,
 "nbformat_minor": 5
}
